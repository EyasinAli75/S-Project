{
  "cells": [
    {
      "cell_type": "markdown",
      "metadata": {
        "id": "view-in-github",
        "colab_type": "text"
      },
      "source": [
        "<a href=\"https://colab.research.google.com/github/EyasinAli75/S-Project/blob/main/Final_Project.ipynb\" target=\"_parent\"><img src=\"https://colab.research.google.com/assets/colab-badge.svg\" alt=\"Open In Colab\"/></a>"
      ]
    },
    {
      "cell_type": "code",
      "execution_count": null,
      "metadata": {
        "id": "BGc0efxxOS_n"
      },
      "outputs": [],
      "source": [
        "import csv\n",
        "header = [\"Student Name\",\"Student ID\",\"Subject\",\"Score\",\"Attendance Percentage\",\"Assignment Completion(yes/no)\",]\n",
        "\n",
        "with open('Student Performance.csv',mode = 'w',newline ='') as file:\n",
        "  writer = csv.writer(file)\n",
        "  writer.writerow(header)\n",
        "\n"
      ]
    },
    {
      "cell_type": "code",
      "execution_count": null,
      "metadata": {
        "id": "K2EKQUvejb1g"
      },
      "outputs": [],
      "source": [
        "def input_data():\n",
        "  student_name = input(\"Enter Your Student Name: \")\n",
        "  student_ID = input(\"ENter Your Student ID: \")\n",
        "  subject = input(\"Enter your Subject: \")\n",
        "  Score = input(\"Enter Your Score: \")\n",
        "  Attendance_percentage = input(\"Enter Your attendance Percentage: \")\n",
        "  Assignment_Completion = input(\" Enter Your Assignment Completion(yes/no): \")\n",
        "  user_data = [student_name,student_ID,subject,Score,Attendance_percentage,Assignment_Completion]\n",
        "\n",
        "\n",
        "  filename = 'Student Performance.csv'\n",
        "  with open(filename, mode='a',newline = '') as csvfile:\n",
        "    csvwriter = csv.writer(csvfile)\n",
        "    csvwriter.writerow(user_data)\n",
        "    print(f\"Data saved to {filename}\")\n",
        "\n"
      ]
    },
    {
      "cell_type": "code",
      "execution_count": 25,
      "metadata": {
        "colab": {
          "base_uri": "https://localhost:8080/"
        },
        "id": "EjnzvRyckwd0",
        "outputId": "e1ce602e-988f-437a-8630-a62b686a333b"
      },
      "outputs": [
        {
          "name": "stdout",
          "output_type": "stream",
          "text": [
            "Menu: \n",
            "1. Add new student\n",
            "2. Search for a student\n",
            "3.Update student's score or attandance\n",
            "4.Exit\n",
            "choose an option (1-4):3\n",
            "Enter student ID: 123\n",
            "Student found: roy (ID: 123)\n",
            "What would you like to update?\n",
            "1. Score\n",
            "2. Attendance_percentage\n",
            "Choose an option (1-2): 2\n",
            "Enter the new attendance for roy: 90\n",
            "Attendance updated to 90.\n",
            "Menu: \n",
            "1. Add new student\n",
            "2. Search for a student\n",
            "3.Update student's score or attandance\n",
            "4.Exit\n",
            "choose an option (1-4):3\n",
            "Enter student ID: 124\n",
            "Student found: sajol (ID: 124)\n",
            "What would you like to update?\n",
            "1. Score\n",
            "2. Attendance_percentage\n",
            "Choose an option (1-2): 2\n",
            "Enter the new attendance for sajol: 65\n",
            "Attendance updated to 65.\n",
            "Menu: \n",
            "1. Add new student\n",
            "2. Search for a student\n",
            "3.Update student's score or attandance\n",
            "4.Exit\n",
            "choose an option (1-4):3\n",
            "Enter student ID: 125\n",
            "Student found: tushar (ID: 125)\n",
            "What would you like to update?\n",
            "1. Score\n",
            "2. Attendance_percentage\n",
            "Choose an option (1-2): 2\n",
            "Enter the new attendance for tushar: 55\n",
            "Attendance updated to 55.\n",
            "Menu: \n",
            "1. Add new student\n",
            "2. Search for a student\n",
            "3.Update student's score or attandance\n",
            "4.Exit\n",
            "choose an option (1-4):3\n",
            "Enter student ID: 2\n",
            "Student not found or no updates made.\n",
            "Menu: \n",
            "1. Add new student\n",
            "2. Search for a student\n",
            "3.Update student's score or attandance\n",
            "4.Exit\n",
            "choose an option (1-4):3\n",
            "Enter student ID: 126\n",
            "Student found: sajol (ID: 126)\n",
            "What would you like to update?\n",
            "1. Score\n",
            "2. Attendance_percentage\n",
            "Choose an option (1-2): 2\n",
            "Enter the new attendance for sajol: 37\n",
            "Attendance updated to 37.\n",
            "Menu: \n",
            "1. Add new student\n",
            "2. Search for a student\n",
            "3.Update student's score or attandance\n",
            "4.Exit\n",
            "choose an option (1-4):4\n"
          ]
        }
      ],
      "source": [
        "while True:\n",
        "  print(\"Menu: \")\n",
        "  print(\"1. Add new student\")\n",
        "  print(\"2. Search for a student\")\n",
        "  print(\"3.Update student's score or attandance\")\n",
        "  print(\"4.Exit\")\n",
        "  choice = input(\"choose an option (1-4):\").strip()\n",
        "\n",
        "  if choice == '1':\n",
        "   input_data()\n",
        "  if choice =='2':\n",
        "   search_student()\n",
        "  if choice == '3':\n",
        "   update_student_info()\n",
        "  if choice == '4':\n",
        "    break\n",
        "\n"
      ]
    },
    {
      "cell_type": "code",
      "execution_count": null,
      "metadata": {
        "id": "g0c_W_36S0un"
      },
      "outputs": [],
      "source": [
        "# Function to search for a student\n",
        "def search_student():\n",
        "    # Open your CSV file in read mode\n",
        "    with open('Student Performance.csv', mode='r') as file:\n",
        "        reader = csv.DictReader(file)\n",
        "        student_id = input(\"Enter student ID: \")\n",
        "        found = False\n",
        "\n",
        "        # Loop through the rows in the CSV file\n",
        "        for student in reader:\n",
        "            if student['student_ID'].lower() == student_id.lower():  # case-insensitive comparison\n",
        "                print(f\"Student Found: {student}\")\n",
        "                found = True\n",
        "                break\n",
        "\n",
        "        if not found:\n",
        "            print(\"Student not found.\")\n",
        "\n"
      ]
    },
    {
      "cell_type": "code",
      "execution_count": 24,
      "metadata": {
        "id": "peTwz3ZAxoyR"
      },
      "outputs": [],
      "source": [
        "def update_student_info():\n",
        "  student_id = input(\"Enter student ID: \")\n",
        "  updated = False\n",
        "# Read all students into memory\n",
        "  with open('Student Performance.csv', mode='r') as file:\n",
        "        reader = csv.DictReader(file)\n",
        "        rows = list(reader)\n",
        "   #Open the file in write mode to overwrite the updated content\n",
        "  with open('Student Performance.csv', mode='w', newline='') as file:\n",
        "        fieldnames = [\"student_name\",\"student_ID\",\"subject\",\"Score\",\"Attendance_percentage\",\"Assignment_Completion\"]  # Adjust based on your CSV structure\n",
        "        writer = csv.DictWriter(file, fieldnames=fieldnames)\n",
        "\n",
        "        writer.writeheader()  # Write the header back\n",
        "\n",
        "        # Loop through rows to find the student and update their data\n",
        "        for row in rows:\n",
        "            if row['student_ID'].lower() == student_id.lower():  # case-insensitive comparison\n",
        "                print(f\"Student found: {row['student_name']} (ID: {row['student_ID']})\")\n",
        "\n",
        "                # Ask for score or attendance to update\n",
        "                print(\"What would you like to update?\")\n",
        "                print(\"1. Score\")\n",
        "                print(\"2. Attendance_percentage\")\n",
        "                option = input(\"Choose an option (1-2): \")\n",
        "\n",
        "                if option == '1':\n",
        "                    new_score = input(f\"Enter the new score for {row['student_name']}: \")\n",
        "                    row['Score'] = new_score\n",
        "                    print(f\"Score updated to {new_score}.\")\n",
        "                elif option == '2':\n",
        "                    new_attendance = input(f\"Enter the new attendance for {row['student_name']}: \")\n",
        "                    row['Attendance_percentage'] = new_attendance\n",
        "                    print(f\"Attendance updated to {new_attendance}.\")\n",
        "                else:\n",
        "                    print(\"Invalid option.\")\n",
        "                    continue\n",
        "\n",
        "                updated = True\n",
        "\n",
        "            # Write each row back to the file\n",
        "            writer.writerow(row)\n",
        "\n",
        "  if not updated:\n",
        "        print(\"Student not found or no updates made.\")\n",
        "\n"
      ]
    },
    {
      "cell_type": "code",
      "execution_count": 6,
      "metadata": {
        "colab": {
          "base_uri": "https://localhost:8080/"
        },
        "id": "sVCagATdla_1",
        "outputId": "29597830-2865-40a8-9997-7fb2ed9ddfd7"
      },
      "outputs": [
        {
          "output_type": "stream",
          "name": "stdout",
          "text": [
            "['student_name', 'student_ID', 'subject', 'Score', 'Attendance_percentage', 'Assignment_Completion']\n",
            "['roy', '123', 'python', '96', '9', 'yes']\n",
            "['sajol', '124', 'bangla', '78', '6', 'no']\n",
            "['tushar', '125', 'python', '34', '2', 'no']\n",
            "['sajol', '126', 'python', '45', '3', 'yes']\n"
          ]
        }
      ],
      "source": [
        "import csv\n",
        "\n",
        "\n",
        "file_name = 'Student Performance.csv'\n",
        "\n",
        "try:\n",
        "\n",
        "    with open(file_name, mode='r') as file:\n",
        "         csv_reader = csv.reader(file)\n",
        "         for row in csv_reader:\n",
        "            print(row)\n",
        "except FileNotFoundError:\n",
        "    print(f\"The file '{file_name}' does not exist.\")"
      ]
    },
    {
      "cell_type": "code",
      "source": [
        "# Specify the file name\n",
        "file_name = 'Student Performance.csv'\n",
        "new_file_name = 'updated_Student Performance.csv'\n",
        "\n",
        "try:\n",
        "    # Open the CSV file\n",
        "    with open(file_name, mode='r') as file:\n",
        "        # Create a CSV reader object\n",
        "        csv_reader = csv.reader(file)\n",
        "\n",
        "        # Read all rows into a list\n",
        "        data = [row for row in csv_reader]\n",
        "\n",
        "        # Modify the data (example: add a new column to each row)\n",
        "        for row in data:\n",
        "            row.append('New Column Data')\n",
        "\n",
        "    # Write the updated data to a new CSV file\n",
        "    with open(new_file_name, mode='w', newline='') as file:\n",
        "        csv_writer = csv.writer(file)\n",
        "\n",
        "        # Write each updated row\n",
        "        csv_writer.writerows(data)\n",
        "\n",
        "    print(f\"Updated data written to '{new_file_name}'.\")\n",
        "except FileNotFoundError:\n",
        "    print(f\"The file '{file_name}' does not exist.\")"
      ],
      "metadata": {
        "colab": {
          "base_uri": "https://localhost:8080/"
        },
        "id": "9NQqPRHzsJ22",
        "outputId": "f160da16-8fe7-4503-acbf-76c385fd6e92"
      },
      "execution_count": 7,
      "outputs": [
        {
          "output_type": "stream",
          "name": "stdout",
          "text": [
            "Updated data written to 'updated_Student Performance.csv'.\n"
          ]
        }
      ]
    },
    {
      "cell_type": "code",
      "source": [
        "import pandas as pd\n",
        "file_name = 'Student Performance.csv'\n",
        "try:\n",
        "    # Read the CSV file into a DataFrame\n",
        "    df = pd.read_csv(file_name)\n",
        "\n",
        "    # Analyze data: Calculate average, minimum, and maximum scores per student\n",
        "    if 'Score' in df.columns:\n",
        "        df['Score'] = pd.to_numeric(df['Score'], errors='coerce')  # Ensure Scores are numeric\n",
        "        stats = df.groupby('student_name')['Score'].agg(['mean', 'min', 'max'])\n",
        "        print(\"Average, Minimum, and Maximum Scores per Student:\")\n",
        "        print(stats)\n",
        "\n",
        "    # Identify students with attendance < 75% or missing assignments\n",
        "    if 'Attendance' in df.columns:\n",
        "        df['Attendance_percentage'] = pd.to_numeric(df['Attendance_percentage'], errors='coerce')\n",
        "        low_attendance = df[df['Attendance_percentage'] < 75]\n",
        "        print(\"Students with attendance less than 75%:\")\n",
        "        print(low_attendance)\n",
        "\n",
        "    if 'Assignment_Completion' in df.columns:\n",
        "        missing_assignments = df[df['Assignment_Completion'] > \"no\"]\n",
        "        print(\"Students with missing assignments:\")\n",
        "        print(missing_assignments)\n",
        "\n",
        "    # Write the updated DataFrame to a new CSV file\n",
        "    df.to_csv(new_file_name, index=False)\n",
        "    print(f\"Updated data written to '{new_file_name}'.\")\n",
        "except FileNotFoundError:\n",
        "    print(f\"The file '{file_name}' does not exist.\")"
      ],
      "metadata": {
        "colab": {
          "base_uri": "https://localhost:8080/"
        },
        "id": "PyZBp7nowfLS",
        "outputId": "86a70088-1a93-4468-c603-14044855b640"
      },
      "execution_count": 10,
      "outputs": [
        {
          "output_type": "stream",
          "name": "stdout",
          "text": [
            "Average, Minimum, and Maximum Scores per Student:\n",
            "              mean  min  max\n",
            "student_name                \n",
            "roy           96.0   96   96\n",
            "sajol         61.5   45   78\n",
            "tushar        34.0   34   34\n",
            "Students with missing assignments:\n",
            "  student_name  student_ID subject  Score  Attendance_percentage  \\\n",
            "0          roy         123  python     96                      9   \n",
            "3        sajol         126  python     45                      3   \n",
            "\n",
            "  Assignment_Completion  \n",
            "0                   yes  \n",
            "3                   yes  \n",
            "Updated data written to 'updated_Student Performance.csv'.\n"
          ]
        }
      ]
    },
    {
      "cell_type": "code",
      "source": [
        "# Filter students failing a specific subject (example: Math)\n",
        "try:\n",
        " subject_score = 'Score'\n",
        " if subject_score in df.columns:\n",
        "        failing_students = df[df[subject_score] < 40]  # Assuming 40 is the passing score\n",
        "        print(f\"Students failing {subject_score}:\")\n",
        "        print(failing_students)\n",
        "\n",
        "    # Write the updated DataFrame to a new CSV file\n",
        " df.to_csv(new_file_name, index=False)\n",
        " print(f\"Updated data written to '{new_file_name}'.\")\n",
        "except FileNotFoundError:\n",
        "    print(f\"The file '{file_name}' does not exist.\")"
      ],
      "metadata": {
        "colab": {
          "base_uri": "https://localhost:8080/"
        },
        "id": "2VR8b4V_1fII",
        "outputId": "28c997d3-aec9-4427-9fb2-60ff9a8b5961"
      },
      "execution_count": 13,
      "outputs": [
        {
          "output_type": "stream",
          "name": "stdout",
          "text": [
            "Students failing Score:\n",
            "  student_name  student_ID subject  Score  Attendance_percentage  \\\n",
            "2       tushar         125  python     34                      2   \n",
            "\n",
            "  Assignment_Completion  \n",
            "2                    no  \n",
            "Updated data written to 'updated_Student Performance.csv'.\n"
          ]
        }
      ]
    },
    {
      "cell_type": "code",
      "source": [
        "import pandas as pd\n",
        "\n",
        "# Example DataFrame\n",
        "data = 'Student Performance.csv'\n",
        "\n",
        "df = pd.read_csv(data)\n",
        "\n",
        "# Safely convert 'Score' to numeric\n",
        "df['Score'] = pd.to_numeric(df['Score'], errors='coerce')  # Converts invalid to NaN\n",
        "\n",
        "print(df)"
      ],
      "metadata": {
        "colab": {
          "base_uri": "https://localhost:8080/"
        },
        "id": "0z0RiLM64dWj",
        "outputId": "2b9c9349-fd50-48e8-f972-98efb6cb9f3f"
      },
      "execution_count": 18,
      "outputs": [
        {
          "output_type": "stream",
          "name": "stdout",
          "text": [
            "  student_name  student_ID subject  Score  Attendance_percentage  \\\n",
            "0          roy         123  python     96                      9   \n",
            "1        sajol         124  bangla     78                      6   \n",
            "2       tushar         125  python     34                      2   \n",
            "3        sajol         126  python     45                      3   \n",
            "\n",
            "  Assignment_Completion  \n",
            "0                   yes  \n",
            "1                    no  \n",
            "2                    no  \n",
            "3                   yes  \n"
          ]
        }
      ]
    },
    {
      "cell_type": "code",
      "source": [
        "import pandas as pd\n",
        "import matplotlib.pyplot as plt\n",
        "\n",
        "# Sample data\n",
        "data = 'Student Performance.csv'\n",
        "# Create DataFrame\n",
        "df = pd.read_csv(data)\n",
        "\n",
        "# Calculate the average score by subject\n",
        "average_scores = df.groupby('subject')['Score'].mean()\n",
        "\n",
        "# Plotting\n",
        "plt.figure(figsize=(8, 5))\n",
        "average_scores.plot(kind='bar', color='skyblue', edgecolor='black')\n",
        "plt.xlabel('subject')\n",
        "plt.ylabel('Average Score')\n",
        "plt.title('Average Scores by Subject')\n",
        "plt.xticks(rotation=0)\n",
        "plt.tight_layout()\n",
        "\n",
        "# Show plot\n",
        "plt.show()"
      ],
      "metadata": {
        "colab": {
          "base_uri": "https://localhost:8080/",
          "height": 507
        },
        "id": "EM25hUtt6VpU",
        "outputId": "030f4f1b-51e3-4cfe-a286-2b7789d17e89"
      },
      "execution_count": 20,
      "outputs": [
        {
          "output_type": "display_data",
          "data": {
            "text/plain": [
              "<Figure size 800x500 with 1 Axes>"
            ],
            "image/png": "[encoded data removed]"
          },
          "metadata": {}
        }
      ]
    },
    {
      "cell_type": "code",
      "source": [
        "import pandas as pd\n",
        "import matplotlib.pyplot as plt\n",
        "\n",
        "# Sample data\n",
        "data = 'Student Performance.csv'\n",
        "# Create DataFrame\n",
        "df = pd.read_csv(data)\n",
        "\n",
        "\n",
        "# Categorize attendance into groups\n",
        "conditions = [\n",
        "    df['Attendance_percentage'] < 50,\n",
        "    (df['Attendance_percentage'] >=50) & (df['Attendance_percentage'] <= 75),\n",
        "    df['Attendance_percentage'] > 75\n",
        "]\n",
        "\n",
        "categories = ['<50%', '50-75%', '>75%']\n",
        "\n",
        "df['Attendance_Category'] = pd.cut(\n",
        "    df['Attendance_percentage'],\n",
        "    bins=[-1, 50, 75, float('inf')],\n",
        "    labels=categories\n",
        ")\n",
        "\n",
        "# Count the number of students in each category\n",
        "attendance_counts = df['Attendance_Category'].value_counts()\n",
        "\n",
        "# Plotting the pie chart\n",
        "plt.figure(figsize=(8, 8))\n",
        "attendance_counts.plot(kind='pie', autopct='%1.1f%%', colors=['red', 'orange', 'green'])\n",
        "plt.ylabel('')\n",
        "plt.title('Attendance Percentage Categories')\n",
        "plt.tight_layout()\n",
        "\n",
        "# Show plot\n",
        "plt.show()"
      ],
      "metadata": {
        "colab": {
          "base_uri": "https://localhost:8080/",
          "height": 807
        },
        "id": "Omqq4LTi8R3C",
        "outputId": "ae164386-598a-44dc-b5b0-2825b2bc9934"
      },
      "execution_count": 26,
      "outputs": [
        {
          "output_type": "display_data",
          "data": {
            "text/plain": [
              "<Figure size 800x800 with 1 Axes>"
            ],
            "image/png": "[encoded data removed]"
          },
          "metadata": {}
        }
      ]
    },
    {
      "cell_type": "code",
      "source": [
        "import pandas as pd\n",
        "\n",
        "\n",
        "# Sample Data: List of students and their scores\n",
        "data = 'Student Performance.csv'\n",
        "\n",
        "# Create DataFrame\n",
        "df = pd.read_csv(data)\n",
        "\n",
        "\n",
        "# Function to calculate aggregate scores\n",
        "def calculate_aggregate_scores(df):\n",
        "\n",
        "    # Calculate the total score for each student\n",
        "    df['Total_Score'] = df[[\"Score\"]].sum(axis=1)\n",
        "\n",
        "    # Calculate the average score for each student\n",
        "    df['Average_Score'] = df[[\"Score\"]].mean(axis=1)\n",
        "\n",
        "    return df\n",
        "\n",
        "\n",
        "# Call the function to calculate aggregate scores\n",
        "df = calculate_aggregate_scores(df)\n",
        "\n",
        "# Print the resulting DataFrame\n",
        "print(\"\\nDataFrame with Aggregate Scores:\")\n",
        "print(df)"
      ],
      "metadata": {
        "colab": {
          "base_uri": "https://localhost:8080/"
        },
        "id": "IwrwatquDQGC",
        "outputId": "9cbff241-5d4d-4d53-c8bb-a5e1713b82f7"
      },
      "execution_count": 31,
      "outputs": [
        {
          "output_type": "stream",
          "name": "stdout",
          "text": [
            "\n",
            "DataFrame with Aggregate Scores:\n",
            "  student_name  student_ID subject  Score  Attendance_percentage  \\\n",
            "0          roy         123  python     96                     90   \n",
            "1        sajol         124  bangla     78                     65   \n",
            "2       tushar         125  python     34                     55   \n",
            "3        sajol         126  python     45                     37   \n",
            "\n",
            "  Assignment_Completion  Total_Score  Average_Score  \n",
            "0                   yes           96           96.0  \n",
            "1                    no           78           78.0  \n",
            "2                    no           34           34.0  \n",
            "3                   yes           45           45.0  \n"
          ]
        }
      ]
    },
    {
      "cell_type": "code",
      "source": [
        "# Function to determine grades\n",
        "def determine_grades(row):\n",
        "\n",
        "    if row['Average_Score'] >= 90:\n",
        "        return 'A'\n",
        "    elif row['Average_Score'] >= 75:\n",
        "        return 'B'\n",
        "    elif row['Average_Score'] >= 50:\n",
        "        return 'C'\n",
        "    else:\n",
        "        return 'Fail'\n",
        "\n",
        "\n",
        "# Apply the grade determination function\n",
        "df['Grade'] = df.apply(determine_grades, axis=1)\n",
        "\n",
        "# Display the resulting DataFrame\n",
        "print(\"\\nDataFrame with Grades:\")\n",
        "print(df)"
      ],
      "metadata": {
        "colab": {
          "base_uri": "https://localhost:8080/"
        },
        "id": "FhS_hSzJLiKt",
        "outputId": "36eb16e8-10ca-4a24-9e29-afa158b0fae6"
      },
      "execution_count": 32,
      "outputs": [
        {
          "output_type": "stream",
          "name": "stdout",
          "text": [
            "\n",
            "DataFrame with Grades:\n",
            "  student_name  student_ID subject  Score  Attendance_percentage  \\\n",
            "0          roy         123  python     96                     90   \n",
            "1        sajol         124  bangla     78                     65   \n",
            "2       tushar         125  python     34                     55   \n",
            "3        sajol         126  python     45                     37   \n",
            "\n",
            "  Assignment_Completion  Total_Score  Average_Score Grade  \n",
            "0                   yes           96           96.0     A  \n",
            "1                    no           78           78.0     B  \n",
            "2                    no           34           34.0  Fail  \n",
            "3                   yes           45           45.0  Fail  \n"
          ]
        }
      ]
    },
    {
      "cell_type": "code",
      "source": [
        "def generate_performance_report(df):\n",
        "# Select the relevant columns for a concise and user-friendly report\n",
        "    report_columns = [\"student_name\",\"Score\" ,'Total_Score', 'Average_Score', 'Grade']\n",
        "    report_df = df[report_columns]\n",
        "\n",
        "    # Display the report\n",
        "    print(\"\\n=== Student Performance Report ===\")\n",
        "    print(report_df.to_string(index=False))\n",
        "    print(\"\\nReport generated successfully!\")\n",
        "\n",
        "\n",
        "# Call the function to generate and display the report\n",
        "generate_performance_report(df)"
      ],
      "metadata": {
        "colab": {
          "base_uri": "https://localhost:8080/"
        },
        "id": "q0w6jeBvNPQ_",
        "outputId": "44ea63f8-3327-4ee3-9694-785079c4f8c6"
      },
      "execution_count": 33,
      "outputs": [
        {
          "output_type": "stream",
          "name": "stdout",
          "text": [
            "\n",
            "=== Student Performance Report ===\n",
            "student_name  Score  Total_Score  Average_Score Grade\n",
            "         roy     96           96           96.0     A\n",
            "       sajol     78           78           78.0     B\n",
            "      tushar     34           34           34.0  Fail\n",
            "       sajol     45           45           45.0  Fail\n",
            "\n",
            "Report generated successfully!\n"
          ]
        }
      ]
    }
  ],
  "metadata": {
    "colab": {
      "provenance": [],
      "authorship_tag": "ABX9TyO18rPvpRabQv3yAjTI7IOB",
      "include_colab_link": true
    },
    "kernelspec": {
      "display_name": "Python 3",
      "name": "python3"
    },
    "language_info": {
      "name": "python"
    }
  },
  "nbformat": 4,
  "nbformat_minor": 0
}